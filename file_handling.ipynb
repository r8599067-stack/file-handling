{
  "nbformat": 4,
  "nbformat_minor": 0,
  "metadata": {
    "colab": {
      "provenance": []
    },
    "kernelspec": {
      "name": "python3",
      "display_name": "Python 3"
    },
    "language_info": {
      "name": "python"
    }
  },
  "cells": [
    {
      "cell_type": "markdown",
      "source": [
        "# Therory Question"
      ],
      "metadata": {
        "id": "D9Wgxq0FrETB"
      }
    },
    {
      "cell_type": "markdown",
      "source": [
        "1. What is the difference between interpreted and compiled languages\n",
        "    - compiled language- Code is translated into machine code all at once by a compiler before execution.\n",
        "    - Interpreted language- Code is translated line by line by an interpreter during execution.\n",
        "\n",
        "2. .F What is exception handling in Python\n",
        "    - Exception Handling in Python means dealing with errors that occur during program execution — without crashing the entire program.\n",
        "\n",
        "3. What is the purpose of the finally block in exception handling\n",
        "    - The finally block is used to write code that must run no matter what happens — whether an exception occurs or not.\n",
        "\n",
        "4. What is logging in Python0\n",
        "    - Logging in Python means recording (tracking) events that happen when your program runs — such as errors, warnings, or general information.\n",
        "\n",
        "5. What is the significance of the __del__ method in Python\n",
        "    - __del__ method in Python is known as the destructor method.\n",
        "\n",
        "    - It is automatically called when an object is about to be destroye that is, when it is no longer in use and is being removed from memory by Python’s garbage collector.\n",
        "\n",
        "6. What is the difference between import and from ... import in Python0\n",
        "    - Imports the entire module.\n",
        "    - python import math print(math.sqrt(16))\n",
        "    - from import - Imports specific items (functions, classes, variables) from a module.\n",
        "    - python from math import sqrt\n",
        "\n",
        "7. How can you handle multiple exceptions in Python\n",
        "      - You can handle multiple exceptions by using multiple except blocks,\n",
        "or by grouping them in a single except (Error1, Error2) block,\n",
        "depending on your needs.\n",
        "\n",
        "8. What is the purpose of the with statement when handling files in Python\n",
        "    - The with statement is used to open a file safely and automatically close it once the block of code is done — even if an error occurs\n",
        "\n",
        "9. What is the difference between multithreading and multiprocessing\n",
        "    - multithreading - Running multiple threads (smaller units) within the same process.\n",
        "    - Better for I/O-bound tasks (like file or network operations).\n",
        "    - Threads share the same memory and data space.\n",
        "    - multiprocessing - Running multiple processes, each with its own memory space.\n",
        "    - Processes do not share memory — each has its own copy.\n",
        "    - Better for CPU-bound tasks (like heavy calculations).\n",
        "\n",
        "10. What are the advantages of using logging in a program\n",
        "    - Logging is a powerful feature that helps track what your program is doing, especially when debugging or monitoring real-world applications.\n",
        "\n",
        "11. What is memory management in Python\n",
        "    - When you create a variable or object, Python automatically allocates memory for it.\n",
        "    - Python uses a garbage collector to free memory from objects that are no longer accessible.\n",
        "\n",
        "12. What are the basic steps involved in exception handling in Python\n",
        "    - Identify Risky Code\n",
        "    - Catch Exceptions\n",
        "    - finally block to execute code no matter what\n",
        "\n",
        "13. Why is memory management important in Python\n",
        "    - Memory management is important in Python because it ensures that a program uses system resources efficiently, avoids memory leaks, and runs reliably.\n",
        "\n",
        "14. What is the role of try and except in exception handling\n",
        "    - try- Contains the code that might raise an exception.\n",
        "    - Python monitors this block for errors during execution.\n",
        "    - except - Contains the code that handles the error if it occurs.\n",
        "    - You can catch specific exceptions or use a general exception.\n",
        "\n",
        "15. How does Python's garbage collection system work\n",
        "    - Python's Garbage Collection (GC) System automatically manages memory by reclaiming unused objects so that programs don’t run out of memory. Python combines reference counting with a cyclic garbage collector.\n",
        "\n",
        "16. What is the purpose of the else block in exception handling\n",
        "    - The else block is an optional part of a try-except structure. It runs only if no exception occurs in the try block.\n",
        "\n",
        "17. What are the common logging levels in Python\n",
        "    - Common logging levels in Python define the severity or importance of log messages\n",
        "    - DEBUG,INFO,WARNING,ERROR,CRITICAL\n",
        "\n",
        "18. What is the difference between os.fork() and multiprocessing in Python\n",
        "    - Os fork - Creates a child process by duplicating the current process (available only on Unix/Linux).\n",
        "\n",
        "    - multiprocessing - ovides a high-level API to create and manage processes in a cross-platform way (Windows, Linux, Mac).\n",
        "\n",
        "19. What is the importance of closing a file in Python\n",
        "    - Free System Resources\n",
        "    - Ensure Data is Saved\n",
        "    - Avoid Reaching System Limits\n",
        "\n",
        "20. What is the difference between file.read() and file.readline() in Python\n",
        "    - file.read()- Reads the entire file (or a specified number of bytes) at once.\n",
        "    - Useful when you want all data at once.\n",
        "    - file.reading() - Reads one line at a time from the file.\n",
        "    - Useful when processing file line by line.\n",
        "\n",
        "21. What is the logging module in Python used for\n",
        "    - The logging module in Python is used for recording events, errors, and informational messages that occur while a program runs.\n",
        "\n",
        "22. What is the os module in Python used for in file handling0\n",
        "    - The os module in Python provides a way to interact with the operating system. In file handling, it is especially useful for managing files and directories beyond just reading or writing.\n",
        "\n",
        "23. What are the challenges associated with memory management in Python\n",
        "    - Challenges associated with memory management in Python arise because Python automates memory handling, but some situations can still lead to inefficiency or errors. Here are the main challenges:\n",
        "    - Memory Leaks\n",
        "    - High Memory Usage\n",
        "\n",
        "24. How do you raise an exception manually in Python\n",
        "    - Raising an exception manually in Python is done using the raise keyword. This allows you to trigger an error intentionally when a certain condition occurs.\n",
        "\n",
        "25. Why is it important to use multithreading in certain applications?\n",
        "    - Multithreading allows a program to run multiple tasks concurrently within the same process, which can significantly improve performance and responsiveness in specific scenarios.\n",
        "    "
      ],
      "metadata": {
        "id": "X7C6eHxZrH-d"
      }
    },
    {
      "cell_type": "markdown",
      "source": [
        "# Practical Questions"
      ],
      "metadata": {
        "id": "3bJ_u2VAyaBZ"
      }
    },
    {
      "cell_type": "markdown",
      "source": [
        "# 1.How can you open a file for writing in Python and write a string to it"
      ],
      "metadata": {
        "id": "k8dXNcJayeBj"
      }
    },
    {
      "cell_type": "code",
      "source": [
        "file = open(\"example.txt\", \"w\")\n",
        "file.write(\"Hello, this is a test message!\")\n",
        "file.close()"
      ],
      "metadata": {
        "id": "aD8TR17QycDS"
      },
      "execution_count": 1,
      "outputs": []
    },
    {
      "cell_type": "markdown",
      "source": [
        "# 2. Write a Python program to read the contents of a file and print each line"
      ],
      "metadata": {
        "id": "Nq8d88rXzaZu"
      }
    },
    {
      "cell_type": "code",
      "source": [
        "with open(\"example.txt\", \"r\") as file:\n",
        "    for line in file:\n",
        "        print(line.strip())"
      ],
      "metadata": {
        "colab": {
          "base_uri": "https://localhost:8080/"
        },
        "id": "soraxG2zy5zU",
        "outputId": "c83429be-3849-43f3-d152-b6e9bb83ea55"
      },
      "execution_count": 3,
      "outputs": [
        {
          "output_type": "stream",
          "name": "stdout",
          "text": [
            "Hello, this is a test message!\n"
          ]
        }
      ]
    },
    {
      "cell_type": "markdown",
      "source": [
        "# 3.How would you handle a case where the file doesn't exist while trying to open it for reading"
      ],
      "metadata": {
        "id": "B1OXB29qz9fT"
      }
    },
    {
      "cell_type": "code",
      "source": [
        "try:\n",
        "    with open(\"example.txt\", \"r\") as file:\n",
        "        for line in file:\n",
        "            print(line.strip())\n",
        "except FileNotFoundError:\n",
        "    print(\"Error: The file does not exist.\")"
      ],
      "metadata": {
        "colab": {
          "base_uri": "https://localhost:8080/"
        },
        "id": "PbYqc-1Uzxyz",
        "outputId": "8aae7f4a-f749-411b-ff4c-d6e0615bdd34"
      },
      "execution_count": 4,
      "outputs": [
        {
          "output_type": "stream",
          "name": "stdout",
          "text": [
            "Hello, this is a test message!\n"
          ]
        }
      ]
    },
    {
      "cell_type": "markdown",
      "source": [
        "# 4. Write a Python script that reads from one file and writes its content to another file"
      ],
      "metadata": {
        "id": "eYY0ftP80KhZ"
      }
    },
    {
      "cell_type": "code",
      "source": [
        "with open(\"source.txt\", \"r\") as source_file:\n",
        "    content = source_file.read()\n",
        "with open(\"destination.txt\", \"w\") as dest_file:\n",
        "    dest_file.write(content)\n",
        "\n",
        "print(\"File copied successfully!\")\n"
      ],
      "metadata": {
        "colab": {
          "base_uri": "https://localhost:8080/",
          "height": 211
        },
        "id": "FamB82mo0Ix5",
        "outputId": "cee8ba94-3ca4-4be8-e186-1fb39d4e406e"
      },
      "execution_count": 7,
      "outputs": [
        {
          "output_type": "error",
          "ename": "FileNotFoundError",
          "evalue": "[Errno 2] No such file or directory: 'source.txt'",
          "traceback": [
            "\u001b[0;31m---------------------------------------------------------------------------\u001b[0m",
            "\u001b[0;31mFileNotFoundError\u001b[0m                         Traceback (most recent call last)",
            "\u001b[0;32m/tmp/ipython-input-502727647.py\u001b[0m in \u001b[0;36m<cell line: 0>\u001b[0;34m()\u001b[0m\n\u001b[0;32m----> 1\u001b[0;31m \u001b[0;32mwith\u001b[0m \u001b[0mopen\u001b[0m\u001b[0;34m(\u001b[0m\u001b[0;34m\"source.txt\"\u001b[0m\u001b[0;34m,\u001b[0m \u001b[0;34m\"r\"\u001b[0m\u001b[0;34m)\u001b[0m \u001b[0;32mas\u001b[0m \u001b[0msource_file\u001b[0m\u001b[0;34m:\u001b[0m\u001b[0;34m\u001b[0m\u001b[0;34m\u001b[0m\u001b[0m\n\u001b[0m\u001b[1;32m      2\u001b[0m     \u001b[0mcontent\u001b[0m \u001b[0;34m=\u001b[0m \u001b[0msource_file\u001b[0m\u001b[0;34m.\u001b[0m\u001b[0mread\u001b[0m\u001b[0;34m(\u001b[0m\u001b[0;34m)\u001b[0m\u001b[0;34m\u001b[0m\u001b[0;34m\u001b[0m\u001b[0m\n\u001b[1;32m      3\u001b[0m \u001b[0;32mwith\u001b[0m \u001b[0mopen\u001b[0m\u001b[0;34m(\u001b[0m\u001b[0;34m\"destination.txt\"\u001b[0m\u001b[0;34m,\u001b[0m \u001b[0;34m\"w\"\u001b[0m\u001b[0;34m)\u001b[0m \u001b[0;32mas\u001b[0m \u001b[0mdest_file\u001b[0m\u001b[0;34m:\u001b[0m\u001b[0;34m\u001b[0m\u001b[0;34m\u001b[0m\u001b[0m\n\u001b[1;32m      4\u001b[0m     \u001b[0mdest_file\u001b[0m\u001b[0;34m.\u001b[0m\u001b[0mwrite\u001b[0m\u001b[0;34m(\u001b[0m\u001b[0mcontent\u001b[0m\u001b[0;34m)\u001b[0m\u001b[0;34m\u001b[0m\u001b[0;34m\u001b[0m\u001b[0m\n\u001b[1;32m      5\u001b[0m \u001b[0;34m\u001b[0m\u001b[0m\n",
            "\u001b[0;31mFileNotFoundError\u001b[0m: [Errno 2] No such file or directory: 'source.txt'"
          ]
        }
      ]
    },
    {
      "cell_type": "markdown",
      "source": [
        "# 5.How would you catch and handle division by zero error in Python\u001f"
      ],
      "metadata": {
        "id": "IYL1WX4N0mPC"
      }
    },
    {
      "cell_type": "code",
      "source": [
        "try:\n",
        "    a = int(input(\"Enter numerator: \"))\n",
        "    b = int(input(\"Enter denominator: \"))\n",
        "    result = a / b\n",
        "    print(\"Result:\", result)\n",
        "except ZeroDivisionError:\n",
        "    print(\"Error: Division by zero is not allowed.\")\n"
      ],
      "metadata": {
        "colab": {
          "base_uri": "https://localhost:8080/"
        },
        "id": "fok38XIy0Zrg",
        "outputId": "0a8a26fe-e589-4f90-ed65-d2b8c3646f8a"
      },
      "execution_count": 9,
      "outputs": [
        {
          "output_type": "stream",
          "name": "stdout",
          "text": [
            "Enter numerator: 2\n",
            "Enter denominator: 0\n",
            "Error: Division by zero is not allowed.\n"
          ]
        }
      ]
    },
    {
      "cell_type": "markdown",
      "source": [
        "# 6.Write a Python program that logs an error message to a log file when a division by zero exception  occurs"
      ],
      "metadata": {
        "id": "ilY7rjpG02Pm"
      }
    },
    {
      "cell_type": "code",
      "source": [
        "import logging\n",
        "logging.basicConfig(\n",
        "    filename=\"error_log.txt\",\n",
        "    level=logging.ERROR,\n",
        "    format=\"%(asctime)s - %(levelname)s - %(message)s\"\n",
        ")\n",
        "try:\n",
        "    a = int(input(\"Enter numerator: \"))\n",
        "    b = int(input(\"Enter denominator: \"))\n",
        "    result = a / b\n",
        "    print(\"Result:\", result)\n",
        "except ZeroDivisionError:\n",
        "    logging.error(\"Division by zero error occurred.\")\n",
        "    print(\"Error: Cannot divide by zero. The issue has been logged.\")\n"
      ],
      "metadata": {
        "colab": {
          "base_uri": "https://localhost:8080/"
        },
        "id": "n09YzcsM0wkq",
        "outputId": "3a1a52bf-f5da-4e5b-e438-53e193569855"
      },
      "execution_count": 10,
      "outputs": [
        {
          "output_type": "stream",
          "name": "stdout",
          "text": [
            "Enter numerator: 3\n",
            "Enter denominator: 8\n",
            "Result: 0.375\n"
          ]
        }
      ]
    },
    {
      "cell_type": "markdown",
      "source": [
        "# 7.How do you log information at different levels (INFO, ERROR, WARNING) in Python using the logging module"
      ],
      "metadata": {
        "id": "L6X-XLvd1G9K"
      }
    },
    {
      "cell_type": "code",
      "source": [
        "import logging\n",
        "logging.basicConfig(\n",
        "    filename=\"app_log.txt\",\n",
        "    level=logging.DEBUG,\n",
        "    format=\"%(asctime)s - %(levelname)s - %(message)s\"\n",
        ")\n",
        "logging.debug(\"This is a DEBUG message — useful for developers.\")\n",
        "logging.info(\"This is an INFO message — general information.\")\n",
        "logging.warning(\"This is a WARNING message — something might be wrong.\")\n",
        "logging.error(\"This is an ERROR message — something failed.\")\n",
        "logging.critical(\"This is a CRITICAL message — program may crash!\")\n",
        "\n"
      ],
      "metadata": {
        "colab": {
          "base_uri": "https://localhost:8080/"
        },
        "id": "b5ZICnC_1EHP",
        "outputId": "ca85bfd6-3232-4808-ca51-51fbb268b4d2"
      },
      "execution_count": 11,
      "outputs": [
        {
          "output_type": "stream",
          "name": "stderr",
          "text": [
            "WARNING:root:This is a WARNING message — something might be wrong.\n",
            "ERROR:root:This is an ERROR message — something failed.\n",
            "CRITICAL:root:This is a CRITICAL message — program may crash!\n"
          ]
        }
      ]
    },
    {
      "cell_type": "markdown",
      "source": [
        "# 8.Write a program to handle a file opening error using exception handling"
      ],
      "metadata": {
        "id": "QNEXTvQy1Z0K"
      }
    },
    {
      "cell_type": "code",
      "source": [
        "try:\n",
        "    with open(\"data.txt\", \"r\") as file:\n",
        "        content = file.read()\n",
        "        print(content)\n",
        "\n",
        "except FileNotFoundError:\n",
        "    print(\"Error: The file you are trying to open does not exist.\")\n",
        "\n",
        "except PermissionError:\n",
        "    print(\"Error: You don’t have permission to access this file.\")\n",
        "\n",
        "except Exception as e:\n",
        "    print(f\"An unexpected error occurred: {e}\")\n"
      ],
      "metadata": {
        "colab": {
          "base_uri": "https://localhost:8080/"
        },
        "id": "SHmNim2c1Vlw",
        "outputId": "8c46e4cd-7fd8-430d-b21c-9c7d73316fbd"
      },
      "execution_count": 12,
      "outputs": [
        {
          "output_type": "stream",
          "name": "stdout",
          "text": [
            "Error: The file you are trying to open does not exist.\n"
          ]
        }
      ]
    },
    {
      "cell_type": "markdown",
      "source": [
        "# 9.How can you read a file line by line and store its content in a list in Python"
      ],
      "metadata": {
        "id": "MbmWXZI01l9m"
      }
    },
    {
      "cell_type": "code",
      "source": [
        "with open(\"example.txt\", \"r\") as file:\n",
        "    lines = file.readlines()\n",
        "print(lines)"
      ],
      "metadata": {
        "colab": {
          "base_uri": "https://localhost:8080/"
        },
        "id": "t43RsQgS1kEv",
        "outputId": "f0f66edd-e5d6-4241-ab29-e9b66cad4dc0"
      },
      "execution_count": 13,
      "outputs": [
        {
          "output_type": "stream",
          "name": "stdout",
          "text": [
            "['Hello, this is a test message!']\n"
          ]
        }
      ]
    },
    {
      "cell_type": "markdown",
      "source": [
        "# 10.How can you append data to an existing file in Python"
      ],
      "metadata": {
        "id": "OZxvxPSw12qW"
      }
    },
    {
      "cell_type": "code",
      "source": [
        "with open(\"example.txt\", \"a\") as file:\n",
        "    file.write(\"\\nThis line is added at the end of the file.\")\n"
      ],
      "metadata": {
        "id": "88fOpccl10AO"
      },
      "execution_count": 17,
      "outputs": []
    },
    {
      "cell_type": "markdown",
      "source": [
        "# 11.Write a Python program that uses a try-except block to handle an error when attempting to access a dictionary key that doesn't exist"
      ],
      "metadata": {
        "id": "tAKw8R1u11Zn"
      }
    },
    {
      "cell_type": "code",
      "source": [
        "student = {\n",
        "    \"name\": \"Alice\",\n",
        "    \"age\": 20,\n",
        "    \"course\": \"Python\"\n",
        "}\n",
        "\n",
        "try:\n",
        "    grade = student[\"grade\"]\n",
        "    print(\"Grade:\", grade)\n",
        "\n",
        "except KeyError:\n",
        "    print(\"Error: The key 'grade' does not exist in the dictionary.\")"
      ],
      "metadata": {
        "colab": {
          "base_uri": "https://localhost:8080/"
        },
        "id": "tX8R8pj12H-t",
        "outputId": "55434c9c-daf5-4386-8c59-d9e7baf8fb42"
      },
      "execution_count": 18,
      "outputs": [
        {
          "output_type": "stream",
          "name": "stdout",
          "text": [
            "Error: The key 'grade' does not exist in the dictionary.\n"
          ]
        }
      ]
    },
    {
      "cell_type": "markdown",
      "source": [
        "# 12.Write a program that demonstrates using multiple except blocks to handle different types of exceptions"
      ],
      "metadata": {
        "id": "Wunxmv-m2RV1"
      }
    },
    {
      "cell_type": "code",
      "source": [
        "try:\n",
        "    num1 = int(input(\"Enter the numerator: \"))\n",
        "    num2 = int(input(\"Enter the denominator: \"))\n",
        "\n",
        "    result = num1 / num2\n",
        "    print(\"Result:\", result)\n",
        "    student = {\"name\": \"Alice\", \"age\": 20}\n",
        "    print(\"Grade:\", student[\"grade\"])\n",
        "\n",
        "except ZeroDivisionError:\n",
        "    print(\"Error: Cannot divide by zero.\")\n",
        "\n",
        "except ValueError:\n",
        "    print(\"Error: Invalid input. Please enter a number.\")\n",
        "\n",
        "except KeyError:\n",
        "    print(\"Error: The requested key does not exist in the dictionary.\")\n",
        "\n",
        "except Exception as e:\n",
        "    print(f\"An unexpected error occurred: {e}\")\n"
      ],
      "metadata": {
        "colab": {
          "base_uri": "https://localhost:8080/"
        },
        "id": "b3X1-40G2amY",
        "outputId": "cef37b41-dfbd-4bdd-85a3-4926bbe13c8e"
      },
      "execution_count": 19,
      "outputs": [
        {
          "output_type": "stream",
          "name": "stdout",
          "text": [
            "Enter the numerator: 3\n",
            "Enter the denominator: 0\n",
            "Error: Cannot divide by zero.\n"
          ]
        }
      ]
    },
    {
      "cell_type": "markdown",
      "source": [
        "# 13. How would you check if a file exists before attempting to read it in Pythons"
      ],
      "metadata": {
        "id": "w_46yA6E2Q2l"
      }
    },
    {
      "cell_type": "code",
      "source": [
        "import os\n",
        "filename = \"example.txt\"\n",
        "if os.path.exists(filename):\n",
        "    with open(filename, \"r\") as file:\n",
        "        content = file.read()\n",
        "        print(content)\n",
        "else:\n",
        "    print(f\"Error: The file '{filename}' does not exist.\")\n"
      ],
      "metadata": {
        "colab": {
          "base_uri": "https://localhost:8080/"
        },
        "id": "f1H9Aaod2ltd",
        "outputId": "02ed25df-33f5-472f-ba77-bc76bf245419"
      },
      "execution_count": 20,
      "outputs": [
        {
          "output_type": "stream",
          "name": "stdout",
          "text": [
            "Hello, this is a test message!\n",
            "This line is added at the end of the file.\n",
            "This line is added at the end of the file.\n",
            "This line is added at the end of the file.\n",
            "This line is added at the end of the file.\n"
          ]
        }
      ]
    },
    {
      "cell_type": "markdown",
      "source": [
        "# 14. Write a program that uses the logging module to log both informational and error messages"
      ],
      "metadata": {
        "id": "Dp3Y2U7B2y3r"
      }
    },
    {
      "cell_type": "code",
      "source": [
        "import logging\n",
        "\n",
        "logging.basicConfig(\n",
        "    filename=\"app_log.txt\",\n",
        "    level=logging.DEBUG,\n",
        "    format=\"%(asctime)s - %(levelname)s - %(message)s\")\n",
        "logging.info(\"Program started successfully.\")\n",
        "\n",
        "try:\n",
        "    num1 = 10\n",
        "    num2 = 0\n",
        "    result = num1 / num2\n",
        "    logging.info(f\"Division result: {result}\")\n",
        "\n",
        "except ZeroDivisionError:\n",
        "    logging.error(\"Division by zero occurred!\")\n",
        "\n",
        "logging.info(\"Program finished execution.\")\n"
      ],
      "metadata": {
        "colab": {
          "base_uri": "https://localhost:8080/"
        },
        "id": "k_VWmQmy2sGe",
        "outputId": "b8f25d1c-575a-4c8b-ac88-5107a7a4a084"
      },
      "execution_count": 21,
      "outputs": [
        {
          "output_type": "stream",
          "name": "stderr",
          "text": [
            "ERROR:root:Division by zero occurred!\n"
          ]
        }
      ]
    },
    {
      "cell_type": "markdown",
      "source": [
        "# 15. Write a Python program that prints the content of a file and handles the case when the file is empty"
      ],
      "metadata": {
        "id": "W1dhOF6X3ItL"
      }
    },
    {
      "cell_type": "code",
      "source": [
        "filename = \"example.txt\"\n",
        "try:\n",
        "    with open(filename, \"r\") as file:\n",
        "        content = file.read()\n",
        "\n",
        "        if content:\n",
        "            print(\"File content:\")\n",
        "            print(content)\n",
        "        else:\n",
        "            print(\"The file is empty.\")\n",
        "\n",
        "except FileNotFoundError:\n",
        "    print(f\"Error: The file '{filename}' does not exist.\")\n",
        "\n",
        "except Exception as e:\n",
        "    print(f\"An unexpected error occurred: {e}\")\n"
      ],
      "metadata": {
        "colab": {
          "base_uri": "https://localhost:8080/"
        },
        "id": "MU_rSBE53GQ1",
        "outputId": "fc0815e7-727d-4fd5-b9a2-12928acc6013"
      },
      "execution_count": 22,
      "outputs": [
        {
          "output_type": "stream",
          "name": "stdout",
          "text": [
            "File content:\n",
            "Hello, this is a test message!\n",
            "This line is added at the end of the file.\n",
            "This line is added at the end of the file.\n",
            "This line is added at the end of the file.\n",
            "This line is added at the end of the file.\n"
          ]
        }
      ]
    },
    {
      "cell_type": "markdown",
      "source": [
        "# 16. Demonstrate how to use memory profiling to check the memory usage of a small program"
      ],
      "metadata": {
        "id": "4gwdc2Zj3Hlk"
      }
    },
    {
      "cell_type": "code",
      "source": [
        "pip install memory-profiler\n",
        "from memory_profiler import profile\n",
        "\n",
        "@profile\n",
        "def create_list():\n",
        "    # Create a list with 1 million numbers\n",
        "    numbers = [i for i in range(10**6)]\n",
        "    print(\"List created!\")\n",
        "    return numbers\n",
        "\n",
        "if __name__ == \"__main__\":\n",
        "    create_list()\n"
      ],
      "metadata": {
        "colab": {
          "base_uri": "https://localhost:8080/",
          "height": 106
        },
        "id": "Qgwvos-G3Yxt",
        "outputId": "a619f64d-f7f2-4a17-9e88-1c90b440d8b8"
      },
      "execution_count": 23,
      "outputs": [
        {
          "output_type": "error",
          "ename": "SyntaxError",
          "evalue": "invalid syntax (ipython-input-3013313644.py, line 1)",
          "traceback": [
            "\u001b[0;36m  File \u001b[0;32m\"/tmp/ipython-input-3013313644.py\"\u001b[0;36m, line \u001b[0;32m1\u001b[0m\n\u001b[0;31m    pip install memory-profiler\u001b[0m\n\u001b[0m        ^\u001b[0m\n\u001b[0;31mSyntaxError\u001b[0m\u001b[0;31m:\u001b[0m invalid syntax\n"
          ]
        }
      ]
    },
    {
      "cell_type": "markdown",
      "source": [
        "# 17.Write a Python program to create and write a list of numbers to a file, one number per line"
      ],
      "metadata": {
        "id": "1dHFZCRI3q-s"
      }
    },
    {
      "cell_type": "code",
      "source": [
        "numbers = [10, 20, 30, 40, 50]\n",
        "with open(\"numbers.txt\", \"w\") as file:\n",
        "    for number in numbers:\n",
        "        file.write(f\"{number}\\n\")\n",
        "\n",
        "print(\"Numbers have been written to 'numbers.txt'.\")\n"
      ],
      "metadata": {
        "colab": {
          "base_uri": "https://localhost:8080/"
        },
        "id": "Hoitj29S3nwM",
        "outputId": "05e39a4b-93c7-425b-d60d-e4cc0983c312"
      },
      "execution_count": 24,
      "outputs": [
        {
          "output_type": "stream",
          "name": "stdout",
          "text": [
            "Numbers have been written to 'numbers.txt'.\n"
          ]
        }
      ]
    },
    {
      "cell_type": "markdown",
      "source": [
        "# 18. How would you implement a basic logging setup that logs to a file with rotation after 1MB"
      ],
      "metadata": {
        "id": "4hTL7HZJ34m-"
      }
    },
    {
      "cell_type": "code",
      "source": [
        "import logging\n",
        "from logging.handlers import RotatingFileHandler\n",
        "handler = RotatingFileHandler(\n",
        "    \"app.log\",\n",
        "    maxBytes=1_048_576,\n",
        "    backupCount=3\n",
        ")\n",
        "\n",
        "logging.basicConfig(\n",
        "    handlers=[handler],\n",
        "    level=logging.INFO,\n",
        "    format=\"%(asctime)s - %(levelname)s - %(message)s\"\n",
        ")\n",
        "for i in range(10000):\n",
        "    logging.info(f\"Logging message {i}\")\n"
      ],
      "metadata": {
        "id": "YrGYPavt39ND"
      },
      "execution_count": 26,
      "outputs": []
    },
    {
      "cell_type": "markdown",
      "source": [
        "# 19. Write a program that handles both IndexError and KeyError using a try-except block"
      ],
      "metadata": {
        "id": "lS_B0N8c4NqY"
      }
    },
    {
      "cell_type": "code",
      "source": [
        "numbers = [10, 20, 30]\n",
        "student = {\"name\": \"Alice\", \"age\": 20}\n",
        "\n",
        "try:\n",
        "    print(\"Accessing list index:\", numbers[5])\n",
        "    print(\"Accessing dictionary key:\", student[\"grade\"])\n",
        "\n",
        "except IndexError:\n",
        "    print(\"Error: The list index is out of range.\")\n",
        "\n",
        "except KeyError:\n",
        "    print(\"Error: The dictionary key does not exist.\")\n",
        "\n",
        "except Exception as e:\n",
        "    print(f\"An unexpected error occurred: {e}\")\n"
      ],
      "metadata": {
        "colab": {
          "base_uri": "https://localhost:8080/"
        },
        "id": "5sQQatO54ImV",
        "outputId": "0b98dea1-0722-4100-ce2e-0509722b6ffa"
      },
      "execution_count": 27,
      "outputs": [
        {
          "output_type": "stream",
          "name": "stdout",
          "text": [
            "Error: The list index is out of range.\n"
          ]
        }
      ]
    },
    {
      "cell_type": "markdown",
      "source": [
        "# 20.How would you open a file and read its contents using a context manager in Python"
      ],
      "metadata": {
        "id": "3UkN98NW4aMM"
      }
    },
    {
      "cell_type": "code",
      "source": [
        "filename = \"example.txt\"\n",
        "\n",
        "with open(filename, \"r\") as file:\n",
        "    content = file.read()\n",
        "print(content)\n"
      ],
      "metadata": {
        "colab": {
          "base_uri": "https://localhost:8080/"
        },
        "id": "fg3HByyG4ZON",
        "outputId": "67554ed8-3910-4a84-9b47-3a0ce4ab1f73"
      },
      "execution_count": 28,
      "outputs": [
        {
          "output_type": "stream",
          "name": "stdout",
          "text": [
            "Hello, this is a test message!\n",
            "This line is added at the end of the file.\n",
            "This line is added at the end of the file.\n",
            "This line is added at the end of the file.\n",
            "This line is added at the end of the file.\n"
          ]
        }
      ]
    },
    {
      "cell_type": "markdown",
      "source": [
        "# 21.Write a Python program that reads a file and prints the number of occurrences of a specific word"
      ],
      "metadata": {
        "id": "vbf_ShTx4nVz"
      }
    },
    {
      "cell_type": "code",
      "source": [
        "filename = \"example.txt\"\n",
        "word_to_count = \"Python\"\n",
        "\n",
        "try:\n",
        "    with open(filename, \"r\") as file:\n",
        "        content = file.read()\n",
        "    count = content.count(word_to_count)\n",
        "    print(f\"The word '{word_to_count}' occurs {count} times in the file.\")\n",
        "\n",
        "except FileNotFoundError:\n",
        "    print(f\"Error: The file '{filename}' does not exist.\")\n",
        "\n",
        "except Exception as e:\n",
        "    print(f\"An unexpected error occurred: {e}\")\n"
      ],
      "metadata": {
        "colab": {
          "base_uri": "https://localhost:8080/"
        },
        "id": "BtM0WgU44qkC",
        "outputId": "3330552c-d463-4c5c-afd6-d1c20030c2f6"
      },
      "execution_count": 30,
      "outputs": [
        {
          "output_type": "stream",
          "name": "stdout",
          "text": [
            "The word 'Python' occurs 0 times in the file.\n"
          ]
        }
      ]
    },
    {
      "cell_type": "code",
      "source": [],
      "metadata": {
        "id": "JyH3grIu4stE"
      },
      "execution_count": null,
      "outputs": []
    },
    {
      "cell_type": "markdown",
      "source": [
        "# 22. How can you check if a file is empty before attempting to read its contents"
      ],
      "metadata": {
        "id": "dZfUDpWw48w5"
      }
    },
    {
      "cell_type": "code",
      "source": [
        "import os\n",
        "filename = \"example.txt\"\n",
        "if os.stat(filename).st_size == 0:\n",
        "    print(\"The file is empty.\")\n",
        "else:\n",
        "    with open(filename, \"r\") as file:\n",
        "        content = file.read()\n",
        "        print(content)\n",
        "filename = \"example.txt\"\n",
        "with open(filename, \"r\") as file:\n",
        "    first_char = file.read(1)\n",
        "    if not first_char:\n",
        "        print(\"The file is empty.\")\n",
        "    else:\n",
        "        file.seek(0)\n",
        "        content = file.read()\n",
        "        print(content)\n"
      ],
      "metadata": {
        "colab": {
          "base_uri": "https://localhost:8080/"
        },
        "id": "Eb1auOAU4_GK",
        "outputId": "e131473f-682b-49f3-ebb8-c62824341189"
      },
      "execution_count": 31,
      "outputs": [
        {
          "output_type": "stream",
          "name": "stdout",
          "text": [
            "Hello, this is a test message!\n",
            "This line is added at the end of the file.\n",
            "This line is added at the end of the file.\n",
            "This line is added at the end of the file.\n",
            "This line is added at the end of the file.\n",
            "Hello, this is a test message!\n",
            "This line is added at the end of the file.\n",
            "This line is added at the end of the file.\n",
            "This line is added at the end of the file.\n",
            "This line is added at the end of the file.\n"
          ]
        }
      ]
    },
    {
      "cell_type": "markdown",
      "source": [
        "# 23. Write a Python program that writes to a log file when an error occurs during file handling"
      ],
      "metadata": {
        "id": "BICjrM_35OBU"
      }
    },
    {
      "cell_type": "code",
      "source": [
        "import logging\n",
        "logging.basicConfig(\n",
        "    filename=\"file_error.log\",\n",
        "    level=logging.ERROR,\n",
        "    format=\"%(asctime)s - %(levelname)s - %(message)s\"\n",
        ")\n",
        "filename = \"non_existent_file.txt\"\n",
        "try:\n",
        "    with open(filename, \"r\") as file:\n",
        "        content = file.read()\n",
        "        print(content)\n",
        "\n",
        "except FileNotFoundError:\n",
        "    logging.error(f\"The file '{filename}' was not found.\")\n",
        "    print(f\"Error: The file '{filename}' does not exist. Check the log for details.\")\n",
        "\n",
        "except PermissionError:\n",
        "    logging.error(f\"Permission denied while accessing '{filename}'.\")\n",
        "    print(f\"Error: Permission denied. Check the log for details.\")\n",
        "\n",
        "except Exception as e:\n",
        "    logging.error(f\"An unexpected error occurred: {e}\")\n",
        "    print(\"An unexpected error occurred. Check the log for details.\")\n"
      ],
      "metadata": {
        "colab": {
          "base_uri": "https://localhost:8080/"
        },
        "id": "HEQZpQOo5KRb",
        "outputId": "a65342c5-dc19-4f4e-ff34-b87c171fce1f"
      },
      "execution_count": 32,
      "outputs": [
        {
          "output_type": "stream",
          "name": "stderr",
          "text": [
            "ERROR:root:The file 'non_existent_file.txt' was not found.\n"
          ]
        },
        {
          "output_type": "stream",
          "name": "stdout",
          "text": [
            "Error: The file 'non_existent_file.txt' does not exist. Check the log for details.\n"
          ]
        }
      ]
    }
  ]
}